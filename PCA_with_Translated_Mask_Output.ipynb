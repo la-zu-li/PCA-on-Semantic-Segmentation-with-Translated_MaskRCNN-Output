{
 "cells": [
  {
   "cell_type": "markdown",
   "metadata": {
    "id": "tddqaRci1REJ",
    "tags": []
   },
   "source": [
    "# Determining the longest diagonal of masks from MaskRCNN-Translated output on C3S-only dataset"
   ]
  },
  {
   "cell_type": "markdown",
   "metadata": {
    "id": "cmOSGkSRQOLi"
   },
   "source": [
    "## Dependencies"
   ]
  },
  {
   "cell_type": "markdown",
   "metadata": {
    "id": "ORCZLvMGRziu"
   },
   "source": [
    "Import MaskRCNN code from GitHub"
   ]
  },
  {
   "cell_type": "code",
   "execution_count": null,
   "metadata": {
    "colab": {
     "base_uri": "https://localhost:8080/"
    },
    "id": "KV5hPx3jTBtm",
    "outputId": "0941830b-acde-4ff9-b409-dce7d96a339d"
   },
   "outputs": [],
   "source": [
    "!git clone 'https://github.com/Rene-Michel99/Mask-RCNN-TF2.8.git'"
   ]
  },
  {
   "cell_type": "code",
   "execution_count": null,
   "metadata": {
    "id": "wn_9q0GVAww2"
   },
   "outputs": [],
   "source": [
    "!mv ./Mask-RCNN-TF2.8/* ./\n",
    "!rm -rf ./Mask-RCNN-TF2.8\n",
    "!rm -rf assets\n",
    "!rm -rf tests"
   ]
  },
  {
   "cell_type": "markdown",
   "metadata": {
    "id": "S_inVTEWA-_C"
   },
   "source": [
    "Install requirements"
   ]
  },
  {
   "cell_type": "code",
   "execution_count": null,
   "metadata": {
    "colab": {
     "base_uri": "https://localhost:8080/",
     "height": 1000
    },
    "id": "Jmjo_57jAytK",
    "outputId": "9f9427ed-be16-4ed2-db2a-0d44c88f5c89"
   },
   "outputs": [],
   "source": [
    "!pip install -r ./requirements.txt"
   ]
  },
  {
   "cell_type": "markdown",
   "metadata": {
    "id": "o7-gGVFpTN5l"
   },
   "source": [
    "Import MaskRCNN libraries"
   ]
  },
  {
   "cell_type": "code",
   "execution_count": null,
   "metadata": {
    "id": "3iH6FrM-TOJ8"
   },
   "outputs": [],
   "source": [
    "from mrcnn.Dataset import load_images_dataset\n",
    "from mrcnn.model import MaskRCNN\n",
    "from mrcnn.Utils import visualize\n",
    "from mrcnn.Configs import Config"
   ]
  },
  {
   "cell_type": "markdown",
   "metadata": {
    "id": "yvMmP3dIRw4U"
   },
   "source": [
    "Common libraries"
   ]
  },
  {
   "cell_type": "code",
   "execution_count": null,
   "metadata": {},
   "outputs": [],
   "source": [
    "!pip install roboflow\n",
    "!pip install scikit-learn"
   ]
  },
  {
   "cell_type": "code",
   "execution_count": null,
   "metadata": {
    "id": "sgMNM03rMofc"
   },
   "outputs": [],
   "source": [
    "import math\n",
    "import numpy as np\n",
    "import cv2 as cv\n",
    "import os\n",
    "from datetime import datetime"
   ]
  },
  {
   "cell_type": "markdown",
   "metadata": {
    "id": "c6pfim_EMpKQ"
   },
   "source": [
    "## Dataset"
   ]
  },
  {
   "cell_type": "markdown",
   "metadata": {
    "id": "LMb_08d7PMRE"
   },
   "source": [
    "Download from Roboflow"
   ]
  },
  {
   "cell_type": "code",
   "execution_count": null,
   "metadata": {
    "colab": {
     "base_uri": "https://localhost:8080/",
     "height": 1000
    },
    "id": "rZfpHUEgPRjN",
    "outputId": "ba7f6141-4285-4e66-f42f-0f4d78fd15f5"
   },
   "outputs": [],
   "source": [
    "from roboflow import Roboflow\n",
    "rf = Roboflow(api_key=\"sDHrdDWd5USqSBR0E7on\")\n",
    "project = rf.workspace(\"medusas\").project(\"alitas-tcc_h\")\n",
    "dataset = project.version(11).download(\"coco\")"
   ]
  },
  {
   "cell_type": "code",
   "execution_count": null,
   "metadata": {
    "id": "M0UFconoPnqd"
   },
   "outputs": [],
   "source": [
    "DATA_SET_NAME = dataset.name.replace(\" \", \"-\")\n",
    "DATA_SET_LOCATION = dataset.location\n",
    "ANNOTATIONS_FILE_NAME = \"_annotations.coco.json\""
   ]
  },
  {
   "cell_type": "markdown",
   "metadata": {
    "id": "7dgRpgPiPea2"
   },
   "source": [
    "Dataset preprocessing (apply bilateral filter)"
   ]
  },
  {
   "cell_type": "code",
   "execution_count": null,
   "metadata": {
    "colab": {
     "base_uri": "https://localhost:8080/"
    },
    "id": "wQ_zMffxUjwg",
    "outputId": "1a26d242-0177-443b-b1a2-1e926c9b63ee"
   },
   "outputs": [],
   "source": [
    "def preprocess_coco_dataset(dataset_path, quiet=False):\n",
    "    BILATERAL_PARAMETERS = (2, 52, 84)\n",
    "\n",
    "    if not quiet:\n",
    "        print(f\"Preprocessing data on: {dataset_path}\")\n",
    "\n",
    "    img_filenames = os.listdir(dataset_path)\n",
    "    img_filenames.remove(\"_annotations.coco.json\")\n",
    "\n",
    "    for filename in img_filenames:\n",
    "        if not quiet:\n",
    "            print(f\"Applying Bilateral Filter on {filename}\")\n",
    "        try:\n",
    "            img = cv.imread(os.path.join(dataset_path, filename))\n",
    "            img = cv.bilateralFilter(img, *BILATERAL_PARAMETERS)\n",
    "            cv.imwrite(os.path.join(dataset_path, filename))\n",
    "        except:\n",
    "            pass\n",
    "\n",
    "    if not quiet:\n",
    "        print(f\"Data preprocessed successfully on {dataset_path}\")\n",
    "\n",
    "\n",
    "datasets_paths = [os.path.join(DATA_SET_LOCATION, 'train'),\n",
    "                 os.path.join(DATA_SET_LOCATION, 'test'),\n",
    "                 os.path.join(DATA_SET_LOCATION, 'valid'),]\n",
    "\n",
    "for dataset in datasets_paths:\n",
    "    preprocess_coco_dataset(dataset)"
   ]
  },
  {
   "cell_type": "markdown",
   "metadata": {
    "id": "ISZdVhfyVGf3"
   },
   "source": [
    "Prepare dataset for inference"
   ]
  },
  {
   "cell_type": "code",
   "execution_count": null,
   "metadata": {
    "colab": {
     "base_uri": "https://localhost:8080/"
    },
    "id": "X-OU0i2cDlwt",
    "outputId": "aa71bc8d-64dc-477a-f538-386d49c8a029"
   },
   "outputs": [],
   "source": [
    "TEST_SET_PATH = os.path.join(DATA_SET_LOCATION, \"test\")\n",
    "\n",
    "dataset_test = load_images_dataset(os.path.join(TEST_SET_PATH, ANNOTATIONS_FILE_NAME), TEST_SET_PATH, \"test\")\n",
    "\n",
    "number_of_classes = dataset_test.count_classes()\n",
    "\n",
    "print('Test: ', len(dataset_test.image_ids))\n",
    "print('Class names: ', dataset_test.class_names)\n",
    "print(\"Classes: \", number_of_classes)"
   ]
  },
  {
   "cell_type": "markdown",
   "metadata": {
    "id": "-9ghzXeXbn1u"
   },
   "source": [
    "## Network"
   ]
  },
  {
   "cell_type": "markdown",
   "metadata": {
    "id": "gNKnZVQR1Ovq"
   },
   "source": [
    "### Configure network for inference"
   ]
  },
  {
   "cell_type": "markdown",
   "metadata": {
    "id": "Die5FOLubgDA"
   },
   "source": [
    "Set output directory"
   ]
  },
  {
   "cell_type": "code",
   "execution_count": null,
   "metadata": {
    "id": "Jfs0l0owQSV1"
   },
   "outputs": [],
   "source": [
    "OUTPUT_DIR_PATH = os.path.join(\n",
    "    \"output\",\n",
    "    datetime.now().strftime('%Y-%m-%d-%H-%M-%S')\n",
    ")\n",
    "\n",
    "os.makedirs(OUTPUT_DIR_PATH, exist_ok=True)"
   ]
  },
  {
   "cell_type": "markdown",
   "metadata": {
    "id": "Nb37sKGrZc_0"
   },
   "source": [
    "Configure model for inference"
   ]
  },
  {
   "cell_type": "code",
   "execution_count": null,
   "metadata": {
    "colab": {
     "base_uri": "https://localhost:8080/"
    },
    "id": "kSMeyzW1MRop",
    "outputId": "454a702f-0c37-4bd0-d6d1-877086c6781d"
   },
   "outputs": [],
   "source": [
    "cfg_kwargs = {\n",
    "    \"name\": \"alitas_tcc_h\",\n",
    "    \"num_classes\": number_of_classes,\n",
    "    \"interpolation_method\": \"bilinear\",\n",
    "    \"images_per_gpu\": 1\n",
    "}\n",
    "\n",
    "config = Config(**cfg_kwargs)\n",
    "model = MaskRCNN(mode=\"inference\", config=config)"
   ]
  },
  {
   "cell_type": "code",
   "execution_count": null,
   "metadata": {
    "colab": {
     "base_uri": "https://localhost:8080/"
    },
    "id": "oTa-HPTCBnqk",
    "outputId": "e8fb33ab-6d47-4e75-931b-61ae82f45fb3"
   },
   "outputs": [],
   "source": [
    "config.display()"
   ]
  },
  {
   "cell_type": "markdown",
   "metadata": {
    "id": "_t1OFW_8zRNi"
   },
   "source": [
    "Load pre-trained weights"
   ]
  },
  {
   "cell_type": "code",
   "execution_count": null,
   "metadata": {
    "colab": {
     "base_uri": "https://localhost:8080/"
    },
    "id": "thOHCzMIyv68",
    "outputId": "9fd67db5-f720-404b-88b8-fd51b5a20488"
   },
   "outputs": [],
   "source": [
    "PRE_TRAINED_WEIGHTS_PATH = \"pretrained_weights/mask_rcnn_alitas_tcc_h_0003.h5\"\n",
    "\n",
    "model.load_weights(filepath=PRE_TRAINED_WEIGHTS_PATH, by_name=True)"
   ]
  },
  {
   "cell_type": "markdown",
   "metadata": {
    "id": "eW0VX7JO1Dan"
   },
   "source": [
    "### Predict"
   ]
  },
  {
   "cell_type": "markdown",
   "metadata": {
    "id": "yE1QPKsc2ZRE"
   },
   "source": [
    "perform inference on test dataset with created predictor"
   ]
  },
  {
   "cell_type": "code",
   "execution_count": null,
   "metadata": {
    "colab": {
     "base_uri": "https://localhost:8080/"
    },
    "id": "lJQCC1syO7EY",
    "outputId": "7481a83b-f504-4c6c-d005-c8d9f1ff7f88"
   },
   "outputs": [],
   "source": [
    "def inference_on_dataset(dataset, quiet=False):\n",
    "\n",
    "    predictions = {}\n",
    "\n",
    "    for img_id in dataset_test.image_ids:\n",
    "        img_path = dataset_test.image_info[img_id].get(\"path\")\n",
    "\n",
    "        img = cv.imread(img_path)\n",
    "        img = img[:,:,::-1]\n",
    "        \n",
    "        if not quiet:\n",
    "            print(f\"running inference on: {img_path}\")\n",
    "        \n",
    "        detection = model.detect([img], verbose=0)[0]\n",
    "        predictions[img_path] = detection\n",
    "    \n",
    "    return predictions \n",
    "    \n",
    "predictions = inference_on_dataset(dataset_test)"
   ]
  },
  {
   "cell_type": "markdown",
   "metadata": {
    "id": "uRVenpunRcv3"
   },
   "source": [
    "## Measuring"
   ]
  },
  {
   "cell_type": "markdown",
   "metadata": {
    "id": "jelq36L75Zrn"
   },
   "source": [
    "Define measuring function to calculate biggest diagonal using PCA"
   ]
  },
  {
   "cell_type": "code",
   "execution_count": null,
   "metadata": {
    "id": "qKBp0JWXQYCk"
   },
   "outputs": [],
   "source": [
    "from sklearn.decomposition import PCA\n",
    "\n",
    "def calc_longest_diagonal_pca(contour):\n",
    "\n",
    "    contour = np.squeeze(contour)\n",
    "\n",
    "    # handle single-point contours\n",
    "    if (len(contour.shape) == 1):\n",
    "        return tuple(contour), tuple(contour), 0\n",
    "\n",
    "    pca = PCA(n_components=1)\n",
    "    pca.fit(contour)\n",
    "\n",
    "    principal_component = pca.components_[0]\n",
    "    contour_pca = np.dot(contour, principal_component)\n",
    "\n",
    "    start_index = np.argmin(contour_pca)\n",
    "    end_index = np.argmax(contour_pca)\n",
    "\n",
    "    start, end = contour[start_index], contour[end_index]\n",
    "    start, end = tuple(start), tuple(end)\n",
    "    length = math.dist(start, end)\n",
    "\n",
    "    return start, end, length"
   ]
  },
  {
   "cell_type": "markdown",
   "metadata": {
    "id": "pE3rjfvR5qWj"
   },
   "source": [
    "Calculate longest diagonal with defined function"
   ]
  },
  {
   "cell_type": "code",
   "execution_count": null,
   "metadata": {
    "id": "M65OG0085YXP"
   },
   "outputs": [],
   "source": [
    "def get_all_diagonals(predictions):\n",
    "    diagonals = {}\n",
    "\n",
    "    for (img_file_path, prediction) in predictions.items():\n",
    "\n",
    "        masks = prediction[\"masks\"]\n",
    "\n",
    "        debug_weird_imgs = [] # debug\n",
    "        diagonals_of_img_masks = []\n",
    "\n",
    "        masks = np.where(masks == 1, 255, 0)\n",
    "        masks = masks.astype(np.uint8)\n",
    "\n",
    "        for mask in np.moveaxis(masks, -1, 0):\n",
    "            contours,_ = cv.findContours(mask, cv.RETR_EXTERNAL, cv.CHAIN_APPROX_NONE)\n",
    "            \n",
    "            # get the contour with the most points\n",
    "            contour = max(contours, key=lambda x: x.shape[0])\n",
    "            diagonal = calc_longest_diagonal_pca(contour)\n",
    "            diagonals_of_img_masks.append(diagonal)\n",
    "\n",
    "        diagonals[img_file_path] = diagonals_of_img_masks\n",
    "        \n",
    "    return diagonals\n",
    "\n",
    "diagonals = get_all_diagonals(predictions)"
   ]
  },
  {
   "cell_type": "markdown",
   "metadata": {
    "id": "p4jN4rHcDIZo"
   },
   "source": [
    "Display measured diagonals"
   ]
  },
  {
   "cell_type": "code",
   "execution_count": null,
   "metadata": {
    "colab": {
     "base_uri": "https://localhost:8080/",
     "height": 1000
    },
    "id": "WMs5OzYIrNfN",
    "outputId": "bc7e8dc5-4122-42d2-ffb6-c8a63b2e7f78"
   },
   "outputs": [],
   "source": [
    "IMAGES_SCALE_PX2NM = 0.8315\n",
    "\n",
    "def draw_diagonal_on_img(img, diag_start, diag_end, color=(200,200,200), thickness=2):\n",
    "    cv.line(img, diag_start, diag_end, color, thickness)\n",
    "\n",
    "for (img_file_path, prediction) in predictions.items():\n",
    "\n",
    "    img = cv.imread(img_file_path)\n",
    "    masks = prediction[\"masks\"]\n",
    "    diagonals_img = diagonals[img_file_path]\n",
    "\n",
    "    for i in range(masks.shape[-1]):\n",
    "        start, end, length_pixels = diagonals_img[i]\n",
    "\n",
    "        img_copy = np.array(img)\n",
    "        draw_diagonal_on_img(img_copy, start, end)\n",
    "        print(\"diagonal length (px): \", length_pixels)\n",
    "        length_in_nanometers = length_pixels * IMAGES_SCALE_PX2NM\n",
    "        print(\"diagonal length (nm): \", length_in_nanometers)\n",
    "\n",
    "        display_kwargs = {\n",
    "            \"image\": img_copy,\n",
    "            \"boxes\": prediction[\"rois\"],\n",
    "            \"masks\": prediction[\"masks\"],\n",
    "            \"class_ids\": prediction[\"class_ids\"],\n",
    "            \"class_names\": [\"\" for _ in range(len(prediction[\"class_ids\"]))],\n",
    "            # \"scores\": prediction[\"scores\"],\n",
    "        }\n",
    "\n",
    "        visualize.display_instances(**display_kwargs)"
   ]
  }
 ],
 "metadata": {
  "accelerator": "GPU",
  "colab": {
   "provenance": []
  },
  "kernelspec": {
   "display_name": "Python 3 (ipykernel)",
   "language": "python",
   "name": "python3"
  },
  "language_info": {
   "codemirror_mode": {
    "name": "ipython",
    "version": 3
   },
   "file_extension": ".py",
   "mimetype": "text/x-python",
   "name": "python",
   "nbconvert_exporter": "python",
   "pygments_lexer": "ipython3",
   "version": "3.10.12"
  }
 },
 "nbformat": 4,
 "nbformat_minor": 4
}
